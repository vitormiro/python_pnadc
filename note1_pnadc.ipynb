{
 "cells": [
  {
   "cell_type": "markdown",
   "metadata": {
    "id": "lGMBso5FgaGl"
   },
   "source": [
    "## Análise Exploratória de Dados\n",
    "\n",
    "Análise exploratória de dados (AED) é uma etapa muito importante para a análise de dados estatísticos.\n",
    "Ela é posta em prática antes de qualquer tipo de modelagem em si, para que o análista ou pesquisador seja capaz de conhecer e entender ao máximo os dados em mãos.\n",
    "\n",
    "A finalidade da EAD é examinar os dados antes de qualquer tipo de modelagem em si, para que o analista ou pesquisador possa ter um entendimento básico de seus dados e das relações existentes entre as variáveis analisadas.\n",
    "\n",
    "Obviamente, a primeira etapa consiste em obter os dados e disponibilizados em um formato adequado para análise.\n",
    "Posteriormente, inicia-se uma análise descritiva detalhada, para que o pesquisador ou analista possa se familiarizar com os dados, organizá-los e sintetizá-los de forma a obter as informações necessárias ao estudo.\n",
    "\n",
    "Na análise exploratória podemos:\n",
    "\n",
    "- realizar um exame gráfico das variáveis individuais;\n",
    "- realizar um exame gráfico de relações entre as variáveis e uma análise descritiva sobre o grau de correlação entre elas;\n",
    "- avaliar a presença de dados ausentes (missing);\n",
    "- identificar os possíveis outliers;\n",
    "- avaliar algumas suposições básicas, como normalidade, lineariedade e homocedasticidade.\n"
   ]
  },
  {
   "cell_type": "markdown",
   "metadata": {
    "id": "DtEv3ZSsgaGn"
   },
   "source": [
    "#### A base de dados\n",
    "Neste Notebook vamos analisar dados da Pesquisa Nacional por Amostra de Domicílios Contínua (PNADC).\n",
    "A PNADC é uma pesquisa amostral levada à campo pelo \n",
    "Aqui analisazeremos os dados para o 4º trimestre de 2019.\n",
    "Para saber mais sobre a PNADC acesse o site do IBGE:\n",
    "\n",
    "https://www.ibge.gov.br/estatisticas/sociais/populacao/9171-pesquisa-nacional-por-amostra-de-domicilios-continua-mensal.html .\n",
    "\n",
    "\n",
    "Para o exercício realizado neste Notebook empregaremos os dados da PNAD de forma bruta, sem adequar os dados ao desenho amostral da pesquisa. O objetivo é realizar o exercício sem introduzir temas relativos ao desenho amostral complexo (que exigiria a aplicação de conceitos estatísticos específicos).\n",
    "\n",
    "O plano amostral adotado na PNAD Contínua é conglomerado em dois estágios de seleção com estratificação das unidades primárias de amostragem (UPAs). Mais detalhes podem ser vistos nas notas metodológicas:\n",
    "\n",
    "https://biblioteca.ibge.gov.br/visualizacao/livros/liv101733_notas_tecnicas.pdf\n"
   ]
  },
  {
   "cell_type": "markdown",
   "metadata": {
    "id": "thqPkcENgaGo"
   },
   "source": [
    "## Análise Explortatória de dados no Python/ Pandas\n",
    "\n",
    "\n",
    "\n"
   ]
  },
  {
   "cell_type": "markdown",
   "metadata": {
    "id": "tUVxXp0xgaGo"
   },
   "source": [
    "Vamos começar importando as bibliotecas necessárias para a AED.\n",
    "Abaixo segue uma lista das bibliotecas utilizadas e onde você pode encontar a documentação de cada uma delas.\n",
    "\n",
    "- NumPy (https://numpy.org/)\n",
    "\n",
    "- Pandas (https://pandas.pydata.org)\n",
    "\n",
    "- Matplotlib para contruir gráficos (https://matplotlib.org)\n",
    "\n",
    "- Seaborn para contruir gráficos (https://seaborn.pydata.org)"
   ]
  },
  {
   "cell_type": "code",
   "execution_count": 1,
   "metadata": {
    "id": "BBLr8ySjgaGp"
   },
   "outputs": [],
   "source": [
    "# importar bibliotecas\n",
    "import numpy as np \n",
    "import pandas as pd \n",
    "import matplotlib.pyplot as plt\n",
    "import seaborn as sns"
   ]
  },
  {
   "cell_type": "markdown",
   "metadata": {
    "id": "D-GNsDOUgaGp"
   },
   "source": [
    "#### Carregar os dados\n",
    "\n",
    "Aqui termos disponível os dados da PNADC (2019.4) em formato `.csv`. Originalmente, o IBGE fornece os dados no formato `.txt`.\n",
    "Para facilitar o processo de leitura neste Notebook, fiz a conversão prévia dos dados.\n",
    "\n",
    "Para carregar os dados usaremos a função `read_csv`.\n"
   ]
  },
  {
   "cell_type": "code",
   "execution_count": 2,
   "metadata": {
    "id": "wgrSwyp8gaGp"
   },
   "outputs": [
    {
     "ename": "HTTPError",
     "evalue": "HTTP Error 404: Not Found",
     "output_type": "error",
     "traceback": [
      "\u001b[1;31m---------------------------------------------------------------------------\u001b[0m",
      "\u001b[1;31mHTTPError\u001b[0m                                 Traceback (most recent call last)",
      "\u001b[1;32m<ipython-input-2-e2c948344f5a>\u001b[0m in \u001b[0;36m<module>\u001b[1;34m\u001b[0m\n\u001b[0;32m      6\u001b[0m \u001b[1;33m\u001b[0m\u001b[0m\n\u001b[0;32m      7\u001b[0m \u001b[1;31m# Importando o arquivo diretamente de um diretório no GitHub\u001b[0m\u001b[1;33m\u001b[0m\u001b[1;33m\u001b[0m\u001b[1;33m\u001b[0m\u001b[0m\n\u001b[1;32m----> 8\u001b[1;33m \u001b[0mdfpnadc\u001b[0m \u001b[1;33m=\u001b[0m \u001b[0mpd\u001b[0m\u001b[1;33m.\u001b[0m\u001b[0mread_csv\u001b[0m\u001b[1;33m(\u001b[0m\u001b[1;34m'https://raw.githubusercontent.com/vitormiro/pnadc_python/master/pnad19t4.csv'\u001b[0m\u001b[1;33m)\u001b[0m\u001b[1;33m\u001b[0m\u001b[1;33m\u001b[0m\u001b[0m\n\u001b[0m",
      "\u001b[1;32m~\\anaconda3\\lib\\site-packages\\pandas\\io\\parsers.py\u001b[0m in \u001b[0;36mparser_f\u001b[1;34m(filepath_or_buffer, sep, delimiter, header, names, index_col, usecols, squeeze, prefix, mangle_dupe_cols, dtype, engine, converters, true_values, false_values, skipinitialspace, skiprows, skipfooter, nrows, na_values, keep_default_na, na_filter, verbose, skip_blank_lines, parse_dates, infer_datetime_format, keep_date_col, date_parser, dayfirst, cache_dates, iterator, chunksize, compression, thousands, decimal, lineterminator, quotechar, quoting, doublequote, escapechar, comment, encoding, dialect, error_bad_lines, warn_bad_lines, delim_whitespace, low_memory, memory_map, float_precision)\u001b[0m\n\u001b[0;32m    674\u001b[0m         )\n\u001b[0;32m    675\u001b[0m \u001b[1;33m\u001b[0m\u001b[0m\n\u001b[1;32m--> 676\u001b[1;33m         \u001b[1;32mreturn\u001b[0m \u001b[0m_read\u001b[0m\u001b[1;33m(\u001b[0m\u001b[0mfilepath_or_buffer\u001b[0m\u001b[1;33m,\u001b[0m \u001b[0mkwds\u001b[0m\u001b[1;33m)\u001b[0m\u001b[1;33m\u001b[0m\u001b[1;33m\u001b[0m\u001b[0m\n\u001b[0m\u001b[0;32m    677\u001b[0m \u001b[1;33m\u001b[0m\u001b[0m\n\u001b[0;32m    678\u001b[0m     \u001b[0mparser_f\u001b[0m\u001b[1;33m.\u001b[0m\u001b[0m__name__\u001b[0m \u001b[1;33m=\u001b[0m \u001b[0mname\u001b[0m\u001b[1;33m\u001b[0m\u001b[1;33m\u001b[0m\u001b[0m\n",
      "\u001b[1;32m~\\anaconda3\\lib\\site-packages\\pandas\\io\\parsers.py\u001b[0m in \u001b[0;36m_read\u001b[1;34m(filepath_or_buffer, kwds)\u001b[0m\n\u001b[0;32m    429\u001b[0m     \u001b[1;31m# See https://github.com/python/mypy/issues/1297\u001b[0m\u001b[1;33m\u001b[0m\u001b[1;33m\u001b[0m\u001b[1;33m\u001b[0m\u001b[0m\n\u001b[0;32m    430\u001b[0m     fp_or_buf, _, compression, should_close = get_filepath_or_buffer(\n\u001b[1;32m--> 431\u001b[1;33m         \u001b[0mfilepath_or_buffer\u001b[0m\u001b[1;33m,\u001b[0m \u001b[0mencoding\u001b[0m\u001b[1;33m,\u001b[0m \u001b[0mcompression\u001b[0m\u001b[1;33m\u001b[0m\u001b[1;33m\u001b[0m\u001b[0m\n\u001b[0m\u001b[0;32m    432\u001b[0m     )\n\u001b[0;32m    433\u001b[0m     \u001b[0mkwds\u001b[0m\u001b[1;33m[\u001b[0m\u001b[1;34m\"compression\"\u001b[0m\u001b[1;33m]\u001b[0m \u001b[1;33m=\u001b[0m \u001b[0mcompression\u001b[0m\u001b[1;33m\u001b[0m\u001b[1;33m\u001b[0m\u001b[0m\n",
      "\u001b[1;32m~\\anaconda3\\lib\\site-packages\\pandas\\io\\common.py\u001b[0m in \u001b[0;36mget_filepath_or_buffer\u001b[1;34m(filepath_or_buffer, encoding, compression, mode)\u001b[0m\n\u001b[0;32m    170\u001b[0m \u001b[1;33m\u001b[0m\u001b[0m\n\u001b[0;32m    171\u001b[0m     \u001b[1;32mif\u001b[0m \u001b[0misinstance\u001b[0m\u001b[1;33m(\u001b[0m\u001b[0mfilepath_or_buffer\u001b[0m\u001b[1;33m,\u001b[0m \u001b[0mstr\u001b[0m\u001b[1;33m)\u001b[0m \u001b[1;32mand\u001b[0m \u001b[0mis_url\u001b[0m\u001b[1;33m(\u001b[0m\u001b[0mfilepath_or_buffer\u001b[0m\u001b[1;33m)\u001b[0m\u001b[1;33m:\u001b[0m\u001b[1;33m\u001b[0m\u001b[1;33m\u001b[0m\u001b[0m\n\u001b[1;32m--> 172\u001b[1;33m         \u001b[0mreq\u001b[0m \u001b[1;33m=\u001b[0m \u001b[0murlopen\u001b[0m\u001b[1;33m(\u001b[0m\u001b[0mfilepath_or_buffer\u001b[0m\u001b[1;33m)\u001b[0m\u001b[1;33m\u001b[0m\u001b[1;33m\u001b[0m\u001b[0m\n\u001b[0m\u001b[0;32m    173\u001b[0m         \u001b[0mcontent_encoding\u001b[0m \u001b[1;33m=\u001b[0m \u001b[0mreq\u001b[0m\u001b[1;33m.\u001b[0m\u001b[0mheaders\u001b[0m\u001b[1;33m.\u001b[0m\u001b[0mget\u001b[0m\u001b[1;33m(\u001b[0m\u001b[1;34m\"Content-Encoding\"\u001b[0m\u001b[1;33m,\u001b[0m \u001b[1;32mNone\u001b[0m\u001b[1;33m)\u001b[0m\u001b[1;33m\u001b[0m\u001b[1;33m\u001b[0m\u001b[0m\n\u001b[0;32m    174\u001b[0m         \u001b[1;32mif\u001b[0m \u001b[0mcontent_encoding\u001b[0m \u001b[1;33m==\u001b[0m \u001b[1;34m\"gzip\"\u001b[0m\u001b[1;33m:\u001b[0m\u001b[1;33m\u001b[0m\u001b[1;33m\u001b[0m\u001b[0m\n",
      "\u001b[1;32m~\\anaconda3\\lib\\site-packages\\pandas\\io\\common.py\u001b[0m in \u001b[0;36murlopen\u001b[1;34m(*args, **kwargs)\u001b[0m\n\u001b[0;32m    139\u001b[0m     \u001b[1;32mimport\u001b[0m \u001b[0murllib\u001b[0m\u001b[1;33m.\u001b[0m\u001b[0mrequest\u001b[0m\u001b[1;33m\u001b[0m\u001b[1;33m\u001b[0m\u001b[0m\n\u001b[0;32m    140\u001b[0m \u001b[1;33m\u001b[0m\u001b[0m\n\u001b[1;32m--> 141\u001b[1;33m     \u001b[1;32mreturn\u001b[0m \u001b[0murllib\u001b[0m\u001b[1;33m.\u001b[0m\u001b[0mrequest\u001b[0m\u001b[1;33m.\u001b[0m\u001b[0murlopen\u001b[0m\u001b[1;33m(\u001b[0m\u001b[1;33m*\u001b[0m\u001b[0margs\u001b[0m\u001b[1;33m,\u001b[0m \u001b[1;33m**\u001b[0m\u001b[0mkwargs\u001b[0m\u001b[1;33m)\u001b[0m\u001b[1;33m\u001b[0m\u001b[1;33m\u001b[0m\u001b[0m\n\u001b[0m\u001b[0;32m    142\u001b[0m \u001b[1;33m\u001b[0m\u001b[0m\n\u001b[0;32m    143\u001b[0m \u001b[1;33m\u001b[0m\u001b[0m\n",
      "\u001b[1;32m~\\anaconda3\\lib\\urllib\\request.py\u001b[0m in \u001b[0;36murlopen\u001b[1;34m(url, data, timeout, cafile, capath, cadefault, context)\u001b[0m\n\u001b[0;32m    220\u001b[0m     \u001b[1;32melse\u001b[0m\u001b[1;33m:\u001b[0m\u001b[1;33m\u001b[0m\u001b[1;33m\u001b[0m\u001b[0m\n\u001b[0;32m    221\u001b[0m         \u001b[0mopener\u001b[0m \u001b[1;33m=\u001b[0m \u001b[0m_opener\u001b[0m\u001b[1;33m\u001b[0m\u001b[1;33m\u001b[0m\u001b[0m\n\u001b[1;32m--> 222\u001b[1;33m     \u001b[1;32mreturn\u001b[0m \u001b[0mopener\u001b[0m\u001b[1;33m.\u001b[0m\u001b[0mopen\u001b[0m\u001b[1;33m(\u001b[0m\u001b[0murl\u001b[0m\u001b[1;33m,\u001b[0m \u001b[0mdata\u001b[0m\u001b[1;33m,\u001b[0m \u001b[0mtimeout\u001b[0m\u001b[1;33m)\u001b[0m\u001b[1;33m\u001b[0m\u001b[1;33m\u001b[0m\u001b[0m\n\u001b[0m\u001b[0;32m    223\u001b[0m \u001b[1;33m\u001b[0m\u001b[0m\n\u001b[0;32m    224\u001b[0m \u001b[1;32mdef\u001b[0m \u001b[0minstall_opener\u001b[0m\u001b[1;33m(\u001b[0m\u001b[0mopener\u001b[0m\u001b[1;33m)\u001b[0m\u001b[1;33m:\u001b[0m\u001b[1;33m\u001b[0m\u001b[1;33m\u001b[0m\u001b[0m\n",
      "\u001b[1;32m~\\anaconda3\\lib\\urllib\\request.py\u001b[0m in \u001b[0;36mopen\u001b[1;34m(self, fullurl, data, timeout)\u001b[0m\n\u001b[0;32m    529\u001b[0m         \u001b[1;32mfor\u001b[0m \u001b[0mprocessor\u001b[0m \u001b[1;32min\u001b[0m \u001b[0mself\u001b[0m\u001b[1;33m.\u001b[0m\u001b[0mprocess_response\u001b[0m\u001b[1;33m.\u001b[0m\u001b[0mget\u001b[0m\u001b[1;33m(\u001b[0m\u001b[0mprotocol\u001b[0m\u001b[1;33m,\u001b[0m \u001b[1;33m[\u001b[0m\u001b[1;33m]\u001b[0m\u001b[1;33m)\u001b[0m\u001b[1;33m:\u001b[0m\u001b[1;33m\u001b[0m\u001b[1;33m\u001b[0m\u001b[0m\n\u001b[0;32m    530\u001b[0m             \u001b[0mmeth\u001b[0m \u001b[1;33m=\u001b[0m \u001b[0mgetattr\u001b[0m\u001b[1;33m(\u001b[0m\u001b[0mprocessor\u001b[0m\u001b[1;33m,\u001b[0m \u001b[0mmeth_name\u001b[0m\u001b[1;33m)\u001b[0m\u001b[1;33m\u001b[0m\u001b[1;33m\u001b[0m\u001b[0m\n\u001b[1;32m--> 531\u001b[1;33m             \u001b[0mresponse\u001b[0m \u001b[1;33m=\u001b[0m \u001b[0mmeth\u001b[0m\u001b[1;33m(\u001b[0m\u001b[0mreq\u001b[0m\u001b[1;33m,\u001b[0m \u001b[0mresponse\u001b[0m\u001b[1;33m)\u001b[0m\u001b[1;33m\u001b[0m\u001b[1;33m\u001b[0m\u001b[0m\n\u001b[0m\u001b[0;32m    532\u001b[0m \u001b[1;33m\u001b[0m\u001b[0m\n\u001b[0;32m    533\u001b[0m         \u001b[1;32mreturn\u001b[0m \u001b[0mresponse\u001b[0m\u001b[1;33m\u001b[0m\u001b[1;33m\u001b[0m\u001b[0m\n",
      "\u001b[1;32m~\\anaconda3\\lib\\urllib\\request.py\u001b[0m in \u001b[0;36mhttp_response\u001b[1;34m(self, request, response)\u001b[0m\n\u001b[0;32m    639\u001b[0m         \u001b[1;32mif\u001b[0m \u001b[1;32mnot\u001b[0m \u001b[1;33m(\u001b[0m\u001b[1;36m200\u001b[0m \u001b[1;33m<=\u001b[0m \u001b[0mcode\u001b[0m \u001b[1;33m<\u001b[0m \u001b[1;36m300\u001b[0m\u001b[1;33m)\u001b[0m\u001b[1;33m:\u001b[0m\u001b[1;33m\u001b[0m\u001b[1;33m\u001b[0m\u001b[0m\n\u001b[0;32m    640\u001b[0m             response = self.parent.error(\n\u001b[1;32m--> 641\u001b[1;33m                 'http', request, response, code, msg, hdrs)\n\u001b[0m\u001b[0;32m    642\u001b[0m \u001b[1;33m\u001b[0m\u001b[0m\n\u001b[0;32m    643\u001b[0m         \u001b[1;32mreturn\u001b[0m \u001b[0mresponse\u001b[0m\u001b[1;33m\u001b[0m\u001b[1;33m\u001b[0m\u001b[0m\n",
      "\u001b[1;32m~\\anaconda3\\lib\\urllib\\request.py\u001b[0m in \u001b[0;36merror\u001b[1;34m(self, proto, *args)\u001b[0m\n\u001b[0;32m    567\u001b[0m         \u001b[1;32mif\u001b[0m \u001b[0mhttp_err\u001b[0m\u001b[1;33m:\u001b[0m\u001b[1;33m\u001b[0m\u001b[1;33m\u001b[0m\u001b[0m\n\u001b[0;32m    568\u001b[0m             \u001b[0margs\u001b[0m \u001b[1;33m=\u001b[0m \u001b[1;33m(\u001b[0m\u001b[0mdict\u001b[0m\u001b[1;33m,\u001b[0m \u001b[1;34m'default'\u001b[0m\u001b[1;33m,\u001b[0m \u001b[1;34m'http_error_default'\u001b[0m\u001b[1;33m)\u001b[0m \u001b[1;33m+\u001b[0m \u001b[0morig_args\u001b[0m\u001b[1;33m\u001b[0m\u001b[1;33m\u001b[0m\u001b[0m\n\u001b[1;32m--> 569\u001b[1;33m             \u001b[1;32mreturn\u001b[0m \u001b[0mself\u001b[0m\u001b[1;33m.\u001b[0m\u001b[0m_call_chain\u001b[0m\u001b[1;33m(\u001b[0m\u001b[1;33m*\u001b[0m\u001b[0margs\u001b[0m\u001b[1;33m)\u001b[0m\u001b[1;33m\u001b[0m\u001b[1;33m\u001b[0m\u001b[0m\n\u001b[0m\u001b[0;32m    570\u001b[0m \u001b[1;33m\u001b[0m\u001b[0m\n\u001b[0;32m    571\u001b[0m \u001b[1;31m# XXX probably also want an abstract factory that knows when it makes\u001b[0m\u001b[1;33m\u001b[0m\u001b[1;33m\u001b[0m\u001b[1;33m\u001b[0m\u001b[0m\n",
      "\u001b[1;32m~\\anaconda3\\lib\\urllib\\request.py\u001b[0m in \u001b[0;36m_call_chain\u001b[1;34m(self, chain, kind, meth_name, *args)\u001b[0m\n\u001b[0;32m    501\u001b[0m         \u001b[1;32mfor\u001b[0m \u001b[0mhandler\u001b[0m \u001b[1;32min\u001b[0m \u001b[0mhandlers\u001b[0m\u001b[1;33m:\u001b[0m\u001b[1;33m\u001b[0m\u001b[1;33m\u001b[0m\u001b[0m\n\u001b[0;32m    502\u001b[0m             \u001b[0mfunc\u001b[0m \u001b[1;33m=\u001b[0m \u001b[0mgetattr\u001b[0m\u001b[1;33m(\u001b[0m\u001b[0mhandler\u001b[0m\u001b[1;33m,\u001b[0m \u001b[0mmeth_name\u001b[0m\u001b[1;33m)\u001b[0m\u001b[1;33m\u001b[0m\u001b[1;33m\u001b[0m\u001b[0m\n\u001b[1;32m--> 503\u001b[1;33m             \u001b[0mresult\u001b[0m \u001b[1;33m=\u001b[0m \u001b[0mfunc\u001b[0m\u001b[1;33m(\u001b[0m\u001b[1;33m*\u001b[0m\u001b[0margs\u001b[0m\u001b[1;33m)\u001b[0m\u001b[1;33m\u001b[0m\u001b[1;33m\u001b[0m\u001b[0m\n\u001b[0m\u001b[0;32m    504\u001b[0m             \u001b[1;32mif\u001b[0m \u001b[0mresult\u001b[0m \u001b[1;32mis\u001b[0m \u001b[1;32mnot\u001b[0m \u001b[1;32mNone\u001b[0m\u001b[1;33m:\u001b[0m\u001b[1;33m\u001b[0m\u001b[1;33m\u001b[0m\u001b[0m\n\u001b[0;32m    505\u001b[0m                 \u001b[1;32mreturn\u001b[0m \u001b[0mresult\u001b[0m\u001b[1;33m\u001b[0m\u001b[1;33m\u001b[0m\u001b[0m\n",
      "\u001b[1;32m~\\anaconda3\\lib\\urllib\\request.py\u001b[0m in \u001b[0;36mhttp_error_default\u001b[1;34m(self, req, fp, code, msg, hdrs)\u001b[0m\n\u001b[0;32m    647\u001b[0m \u001b[1;32mclass\u001b[0m \u001b[0mHTTPDefaultErrorHandler\u001b[0m\u001b[1;33m(\u001b[0m\u001b[0mBaseHandler\u001b[0m\u001b[1;33m)\u001b[0m\u001b[1;33m:\u001b[0m\u001b[1;33m\u001b[0m\u001b[1;33m\u001b[0m\u001b[0m\n\u001b[0;32m    648\u001b[0m     \u001b[1;32mdef\u001b[0m \u001b[0mhttp_error_default\u001b[0m\u001b[1;33m(\u001b[0m\u001b[0mself\u001b[0m\u001b[1;33m,\u001b[0m \u001b[0mreq\u001b[0m\u001b[1;33m,\u001b[0m \u001b[0mfp\u001b[0m\u001b[1;33m,\u001b[0m \u001b[0mcode\u001b[0m\u001b[1;33m,\u001b[0m \u001b[0mmsg\u001b[0m\u001b[1;33m,\u001b[0m \u001b[0mhdrs\u001b[0m\u001b[1;33m)\u001b[0m\u001b[1;33m:\u001b[0m\u001b[1;33m\u001b[0m\u001b[1;33m\u001b[0m\u001b[0m\n\u001b[1;32m--> 649\u001b[1;33m         \u001b[1;32mraise\u001b[0m \u001b[0mHTTPError\u001b[0m\u001b[1;33m(\u001b[0m\u001b[0mreq\u001b[0m\u001b[1;33m.\u001b[0m\u001b[0mfull_url\u001b[0m\u001b[1;33m,\u001b[0m \u001b[0mcode\u001b[0m\u001b[1;33m,\u001b[0m \u001b[0mmsg\u001b[0m\u001b[1;33m,\u001b[0m \u001b[0mhdrs\u001b[0m\u001b[1;33m,\u001b[0m \u001b[0mfp\u001b[0m\u001b[1;33m)\u001b[0m\u001b[1;33m\u001b[0m\u001b[1;33m\u001b[0m\u001b[0m\n\u001b[0m\u001b[0;32m    650\u001b[0m \u001b[1;33m\u001b[0m\u001b[0m\n\u001b[0;32m    651\u001b[0m \u001b[1;32mclass\u001b[0m \u001b[0mHTTPRedirectHandler\u001b[0m\u001b[1;33m(\u001b[0m\u001b[0mBaseHandler\u001b[0m\u001b[1;33m)\u001b[0m\u001b[1;33m:\u001b[0m\u001b[1;33m\u001b[0m\u001b[1;33m\u001b[0m\u001b[0m\n",
      "\u001b[1;31mHTTPError\u001b[0m: HTTP Error 404: Not Found"
     ]
    }
   ],
   "source": [
    "# Importando diretamente em um diretório local (supondo que o notebook está no mesmo diretório)\n",
    "# dfpnadc = pd.read_csv('pnad19t4.csv')\n",
    "\n",
    "# Usando um arquivo compactado devemos usar e o parâmetro 'compression'\n",
    "# dfpnadc = pd.read_csv('pnad19t4.zip', compression='zip')\n",
    "\n",
    "# Importando o arquivo diretamente de um diretório no GitHub\n",
    "dfpnadc = pd.read_csv('https://raw.githubusercontent.com/vitormiro/pnadc_python/master/pnad19t4.csv')"
   ]
  },
  {
   "cell_type": "markdown",
   "metadata": {
    "id": "L7uM3wlHgaGq"
   },
   "source": [
    "O Pandas carrega os dados na forma de um **DataFrame**.\n",
    "\n",
    "Para termos uma ideia da dimensão do DataFrame vamos aplicar o método `shape`."
   ]
  },
  {
   "cell_type": "code",
   "execution_count": null,
   "metadata": {
    "colab": {
     "base_uri": "https://localhost:8080/"
    },
    "id": "_vgXGIWsgaGq",
    "outputId": "bd893bc2-2cb3-4753-df1d-31b866e37608"
   },
   "outputs": [],
   "source": [
    "dfpnadc.shape"
   ]
  },
  {
   "cell_type": "markdown",
   "metadata": {
    "id": "WvR3TxAkgaGr"
   },
   "source": [
    "Com o método `info` temos informações como o nome das variáveis (colunas), a quantidade e o tipo de dados válidos (não faltantes)."
   ]
  },
  {
   "cell_type": "code",
   "execution_count": null,
   "metadata": {
    "id": "LrfDaf7EgaGr",
    "outputId": "30dbc6fd-5ff7-4927-8138-f2d7930f9512"
   },
   "outputs": [],
   "source": [
    "dfpnadc.info()"
   ]
  },
  {
   "cell_type": "markdown",
   "metadata": {
    "id": "3Bp0RpbrgaGr"
   },
   "source": [
    "#### Dicionário da PNAD contínua\n",
    "\n",
    "Para termos uma ideia das variáveis contidas nesta base de dados, podemos consultar o dicionário de dados da PNADC.\n",
    "O dicionário pode ser encontrado na página da pesquisa.\n",
    "\n",
    "Abaixo segue a descrição das principais variáveis que podem ser exploradas na nossa análise.\n",
    "\n",
    "\n",
    "UF = unidade da federação\n",
    "\n",
    "Capital = Município da Capital\n",
    "\n",
    "V2007 = Sexo\n",
    "\n",
    "V2009 = Idade do morador na data de referência\n",
    "\n",
    "V2010 = Cor ou raça\n",
    "\n",
    "VD3004 = Nível de instrução mais elevado alcançado (pessoas de 5 anos ou mais de idade) padronizado para o Ensino fundamental -  SISTEMA DE 9 ANOS\n",
    "\n",
    "VD3005 = Anos de estudo (pessoas de 5 anos ou mais de idade) padronizado para o Ensino fundamental - SISTEMA DE 9 ANOS\n",
    "\n",
    "VD4001 = Condição em relação à força de trabalho na semana de referência para pessoas de 14 anos ou mais de idade\n",
    "\n",
    "VD4002 = Condição de ocupação na semana de referência para pessoas de 14 anos ou mais de idade\n",
    "\n",
    "VD4009 = Posição na ocupação e categoria do emprego do trabalho principal da semana de referência para pessoas de 14 anos ou mais de idade\n",
    "\n",
    "VD4010 = Grupamentos de atividade principal do empreendimento do trabalho principal da semana de referência para pessoas de 14 anos ou mais de idade\n",
    " \n",
    "VD4020 = Rendimento mensal efetivo de todos os trabalhos para pessoas de 14 anos ou mais de idade (apenas para pessoas que receberam em dinheiro, produtos ou mercadorias em qualquer trabalho).\n"
   ]
  },
  {
   "cell_type": "markdown",
   "metadata": {
    "id": "bMAIdp50gaGs"
   },
   "source": [
    "O método `head` permite vizualizar as primeiras linhas do DataFrame. Por *default* o Pandas apresenta as 5 primeira linhas. Aqui utilizaremos o argumento para mostrar as 20 primeiras linhas."
   ]
  },
  {
   "cell_type": "code",
   "execution_count": null,
   "metadata": {
    "colab": {
     "base_uri": "https://localhost:8080/",
     "height": 696
    },
    "id": "xwpehTUAgaGs",
    "outputId": "36aa77a4-7479-4d86-a111-40e9b28340d1"
   },
   "outputs": [],
   "source": [
    "dfpnadc.head(20)"
   ]
  },
  {
   "cell_type": "markdown",
   "metadata": {
    "id": "14z--N_ugaGs"
   },
   "source": [
    "#### Removendo colunas\n",
    "\n",
    "Alguma colunas deste DataFrame não serão importante para o exercício que iremos realizar.\n",
    "Dessa forma, vamos excluí-las da base, deixando o DataFrame mais leve.\n",
    "Para isso, usamos o médodo `drop` e passamos a lista de variáveis a serem deletadas."
   ]
  },
  {
   "cell_type": "code",
   "execution_count": null,
   "metadata": {
    "colab": {
     "base_uri": "https://localhost:8080/",
     "height": 676
    },
    "id": "VDg5qbqbgaGt",
    "outputId": "987a0b41-4413-408f-c135-f013630d41ed"
   },
   "outputs": [],
   "source": [
    "dfpnadc = dfpnadc.drop(columns=['Ano', 'Trimestre', 'UPA', 'Estrato', 'V1008', 'V1014', 'V1027', 'V1029', 'posest'])\n",
    "dfpnadc.head(20)"
   ]
  },
  {
   "cell_type": "markdown",
   "metadata": {
    "id": "feadCbFZgaGt"
   },
   "source": [
    "#### Renomear variáveis\n",
    "Para não lidar com os códigos das variáveis durante toda a análise (e não precisar decorá-los) podemos renomear as colunas.\n",
    "Para isso usamos o `rename`."
   ]
  },
  {
   "cell_type": "code",
   "execution_count": null,
   "metadata": {
    "colab": {
     "base_uri": "https://localhost:8080/",
     "height": 206
    },
    "id": "cOkK_9BtgaGt",
    "outputId": "967a8444-da59-421b-aef0-ef96d9c2af87"
   },
   "outputs": [],
   "source": [
    "dfpnadc.rename(columns={'V2007':'sexo',\n",
    "                   'V2009':'idade',\n",
    "                   'V2010':'cor',\n",
    "                   'VD3004':'escolaridade',\n",
    "                   'VD3005':'anos_estudo',\n",
    "                   'VD4001':'forca_trabalho',\n",
    "                   'VD4002':'ocupado',\n",
    "                   'VD4009':'tipo_ocupacao',\n",
    "                   'VD4010':'atividade',\n",
    "                   'VD4020':'renda_trabalho'}, inplace=True)\n",
    "dfpnadc.head()"
   ]
  },
  {
   "cell_type": "markdown",
   "metadata": {
    "id": "saGakNKYgaGt"
   },
   "source": [
    "Podemos \"mapear\" uma variável qualitativa usando o método `map` e passar um dicionário como argumento.\n",
    "\n",
    "Aqui faremos isso para a variável `sexo`. Nesta variável código 1 = \"homem\" e código 2 = \"mulher\"."
   ]
  },
  {
   "cell_type": "code",
   "execution_count": null,
   "metadata": {
    "id": "ibfyIy9FgaGt"
   },
   "outputs": [],
   "source": [
    "dfpnadc['sexo'] = dfpnadc['sexo'].map({1:'homem', 2:'mulher'})"
   ]
  },
  {
   "cell_type": "code",
   "execution_count": null,
   "metadata": {
    "id": "Nt0dZqTBgaGu"
   },
   "outputs": [],
   "source": [
    "dfpnadc['cor'] = dfpnadc['cor'].map({1:'branca', 2:'preta', 3:'amarela', 4:'parda', 5:'indigena', 9:'ignorado'})"
   ]
  },
  {
   "cell_type": "code",
   "execution_count": null,
   "metadata": {
    "colab": {
     "base_uri": "https://localhost:8080/",
     "height": 363
    },
    "id": "7159oIiUgaGu",
    "outputId": "2f304164-983b-4b76-8769-4722fcd89abd"
   },
   "outputs": [],
   "source": [
    "dfpnadc.head(10)"
   ]
  },
  {
   "cell_type": "markdown",
   "metadata": {
    "id": "8Aev7YfcgaGu"
   },
   "source": [
    "#### Verificando valores ausentes (missing values) nas variáveis\n",
    "\n",
    "É possível verificar a presença de algumas entradas na base `NaN` (Not a Number). São valores ausentes (por diversas razões) na nossa base.\n",
    "\n",
    "O método `isnull` retorna valores booleanos indicando dados ausentes (TRUE) ou não (FALSE)."
   ]
  },
  {
   "cell_type": "code",
   "execution_count": null,
   "metadata": {
    "colab": {
     "base_uri": "https://localhost:8080/",
     "height": 423
    },
    "id": "Fz0SsrG-gaGu",
    "outputId": "9a8f928b-768b-4281-e637-19428421cb9f"
   },
   "outputs": [],
   "source": [
    "dfpnadc.isnull()"
   ]
  },
  {
   "cell_type": "markdown",
   "metadata": {
    "id": "eqZvI38EgaGu"
   },
   "source": [
    "Podemos conciliar os métodos `isnull` e `sum` para termos a quantidade de valores faltantes em cada variável.\n",
    "Algumas destas variaveis apresentam valores faltantes pelo fato da informação não ser aplicavél.\n",
    "Em outros casos, o dado faltante representa a verdadeira ausência da informação, como o caso da renda do trabalho para uma pessoa que não está ocupada."
   ]
  },
  {
   "cell_type": "code",
   "execution_count": null,
   "metadata": {
    "colab": {
     "base_uri": "https://localhost:8080/"
    },
    "id": "BG41FcAbgaGv",
    "outputId": "56acab52-ab80-4814-bf6f-9f1d9652765e"
   },
   "outputs": [],
   "source": [
    "# Quantidade de valores faltantes\n",
    "dfpnadc.isnull().sum()"
   ]
  },
  {
   "cell_type": "markdown",
   "metadata": {
    "id": "43czblqegaGv"
   },
   "source": [
    "Podemos também obter a proporção de valores faltantes em cada variável."
   ]
  },
  {
   "cell_type": "code",
   "execution_count": null,
   "metadata": {
    "colab": {
     "base_uri": "https://localhost:8080/"
    },
    "id": "YjZLIFbigaGv",
    "outputId": "e46625f6-2c84-4221-8e8d-1a82a7e795c2"
   },
   "outputs": [],
   "source": [
    "# Proporção de valores faltantes\n",
    "(dfpnadc.isnull().sum() / dfpnadc.shape[0])*100"
   ]
  },
  {
   "cell_type": "markdown",
   "metadata": {
    "id": "7l9MFtrygaGv"
   },
   "source": [
    "Note que a variável capital possui mais de 77% de dados faltantes. Nesse caso, a razão é simples: são domicílios que compõem a amostra localizados fora do município da capital.\n",
    "Por sua vez, variáveis de mercado de trabalho possuem muitos valores faltantes porque as questões da pesquisa nesta área não se aplicam a todos os entrevistados. A participação na força de trabalho, por exemplo, só se aplica para pessoa em idade para trabalhar (com exceção dos casos de trabalho infantil).\n",
    "A renda do trabalho só será respondida por quem está ocupado e possui rendimentos. E ainda há a possibilidade de uma pessoa ocupada simplesmente omitir o valor dos seus rendimentos.\n",
    "\n",
    "Podemos ter várias razões para dados ausentes, e isso deve ser analisado no contexto de cada base de dados.\n",
    "\n",
    "**Observação**. Por padrão, o pandas exclui dados ausentes no cálculo de estatísticas descritivas."
   ]
  },
  {
   "cell_type": "markdown",
   "metadata": {
    "id": "bLMzht_VgaGv"
   },
   "source": [
    "### Análise descritiva dos dados\n",
    "\n",
    "Um dos principais objetivos da AED é apresentar os dados de forma sistematizada.\n",
    "Podemos aplicar técnicas de estatística descritiva para análisar os dados.\n",
    "\n",
    "Vamos analisar inicialmente algumas variáveis categóricas como **sexo** e **raça**."
   ]
  },
  {
   "cell_type": "code",
   "execution_count": null,
   "metadata": {
    "colab": {
     "base_uri": "https://localhost:8080/"
    },
    "id": "4AXS7PvRgaGv",
    "outputId": "266ec48e-6b0c-4d86-dde2-2eddc0237697"
   },
   "outputs": [],
   "source": [
    "# Contando valores absolutos - frequência\n",
    "dfpnadc['sexo'].value_counts()  #Alternativamente podemos usar o comando dfpnadc.sexo.value_counts()"
   ]
  },
  {
   "cell_type": "code",
   "execution_count": null,
   "metadata": {
    "colab": {
     "base_uri": "https://localhost:8080/"
    },
    "id": "nfNsc6-_ug5p",
    "outputId": "5bb591d0-8c28-4717-8a0f-973d119b55b0"
   },
   "outputs": [],
   "source": [
    "dfpnadc.sexo.value_counts()"
   ]
  },
  {
   "cell_type": "code",
   "execution_count": null,
   "metadata": {
    "colab": {
     "base_uri": "https://localhost:8080/"
    },
    "id": "H1g-P7cIgaGw",
    "outputId": "19d2cb0d-cfcb-4b70-8cbb-d6fd21834a10"
   },
   "outputs": [],
   "source": [
    "# Distribuição - frequência relativa\n",
    "dfpnadc['sexo'].value_counts(normalize = True) * 100"
   ]
  },
  {
   "cell_type": "markdown",
   "metadata": {
    "id": "FUnCGU-egaGw"
   },
   "source": [
    "Vamos repetir estas operações atribuindo \"rótulos\" para os dados."
   ]
  },
  {
   "cell_type": "code",
   "execution_count": null,
   "metadata": {
    "id": "kzAUjT1xgaGw"
   },
   "outputs": [],
   "source": [
    "freq_sexo = dfpnadc['sexo'].value_counts()\n",
    "dist_sexo = dfpnadc['sexo'].value_counts(normalize = True) * 100"
   ]
  },
  {
   "cell_type": "markdown",
   "metadata": {
    "id": "MBoiJM2sgaGw"
   },
   "source": [
    "Agora vamos contruir uma tabela (um \"pequeno DataFrame\") com as informações acima:"
   ]
  },
  {
   "cell_type": "code",
   "execution_count": null,
   "metadata": {
    "colab": {
     "base_uri": "https://localhost:8080/",
     "height": 112
    },
    "id": "D11KA-dUgaGw",
    "outputId": "b549ef85-bedb-433a-b7f0-526090fcad25"
   },
   "outputs": [],
   "source": [
    "df_sexo = pd.DataFrame({'Frequência': dfpnadc['sexo'].value_counts(), 'Proporção (%)': dist_sexo})\n",
    "df_sexo"
   ]
  },
  {
   "cell_type": "markdown",
   "metadata": {
    "id": "PSCoao2AgaGx"
   },
   "source": [
    "Vamos aplicar esta mesma análise para a variável **cor**."
   ]
  },
  {
   "cell_type": "code",
   "execution_count": null,
   "metadata": {
    "colab": {
     "base_uri": "https://localhost:8080/",
     "height": 237
    },
    "id": "hvo3F2LugaGx",
    "outputId": "ec954997-34e8-4a4c-bda3-5d51d0b333e9"
   },
   "outputs": [],
   "source": [
    "freq_cor = dfpnadc['cor'].value_counts()\n",
    "dist_cor = dfpnadc['cor'].value_counts(normalize = True) * 100\n",
    "\n",
    "df_cor = pd.DataFrame({'Frequência': freq_cor, 'Percentual (%)': dist_cor})\n",
    "df_cor"
   ]
  },
  {
   "cell_type": "markdown",
   "metadata": {
    "id": "Jb-MrZlMgaGx"
   },
   "source": [
    "Vamos plotar um gráfico \"pizza\" para ver a distribuição da variável **cor**."
   ]
  },
  {
   "cell_type": "code",
   "execution_count": null,
   "metadata": {
    "colab": {
     "base_uri": "https://localhost:8080/",
     "height": 284
    },
    "id": "yu501v_OgaGx",
    "outputId": "9fa8d659-b1b2-4406-dead-d7a5d192e442"
   },
   "outputs": [],
   "source": [
    "plt.pie(df_cor['Percentual (%)'], \n",
    "        labels = df_cor.index,\n",
    "        startangle = 90, \n",
    "        shadow = True, \n",
    "        explode = (0,0,0,0.1,0.3,0.5))\n",
    "plt.show()"
   ]
  },
  {
   "cell_type": "markdown",
   "metadata": {
    "id": "eDJ3pY1HgaGx"
   },
   "source": [
    "Considerando grupos com participações muito pequenas, talvez o gráfico \"pizza\" não seja a melhor forma de vizualizar estes dados!"
   ]
  },
  {
   "cell_type": "code",
   "execution_count": null,
   "metadata": {
    "colab": {
     "base_uri": "https://localhost:8080/",
     "height": 281
    },
    "id": "HzzA3XjsgaGy",
    "outputId": "7f22720a-d86b-4093-f9ac-0e7c91595542"
   },
   "outputs": [],
   "source": [
    "plt.bar(df_cor.index, df_cor['Percentual (%)'])\n",
    "plt.title(\"Distribuição (%) da amostra segundo cor declarada pelos indivíduos \")\n",
    "plt.show()"
   ]
  },
  {
   "cell_type": "markdown",
   "metadata": {
    "id": "whRp9HTAgaGy"
   },
   "source": [
    "Vamos verificar também a distribuição da amostra entre os estados (UFs)."
   ]
  },
  {
   "cell_type": "code",
   "execution_count": null,
   "metadata": {
    "colab": {
     "base_uri": "https://localhost:8080/"
    },
    "id": "84WNeQJdgaGy",
    "outputId": "b1ccd44b-a053-4bc2-8b16-88ff44f1f1b6"
   },
   "outputs": [],
   "source": [
    "# contar valores\n",
    "dfpnadc.UF.value_counts()"
   ]
  },
  {
   "cell_type": "code",
   "execution_count": null,
   "metadata": {
    "id": "LMmgI2hLgaGy"
   },
   "outputs": [],
   "source": [
    "# Dicionário para os códigos das UFs\n",
    "uf_map = {\n",
    "    11: 'Rondônia', \n",
    "    12: 'Acre', \n",
    "    13: 'Amazonas', \n",
    "    14: 'Roraima', \n",
    "    15: 'Pará', \n",
    "    16: 'Amapá', \n",
    "    17: 'Tocantins', \n",
    "    21: 'Maranhão', \n",
    "    22: 'Piauí', \n",
    "    23: 'Ceará', \n",
    "    24: 'Rio Grande do Norte', \n",
    "    25: 'Paraíba', \n",
    "    26: 'Pernambuco', \n",
    "    27: 'Alagoas', \n",
    "    28: 'Sergipe', \n",
    "    29: 'Bahia', \n",
    "    31: 'Minas Gerais', \n",
    "    32: 'Espírito Santo', \n",
    "    33: 'Rio de Janeiro', \n",
    "    35: 'São Paulo', \n",
    "    41: 'Paraná', \n",
    "    42: 'Santa Catarina', \n",
    "    43: 'Rio Grande do Sul', \n",
    "    50: 'Mato Grosso do Sul', \n",
    "    51: 'Mato Grosso', \n",
    "    52: 'Goiás', \n",
    "    53: 'Distrito Federal'\n",
    "}"
   ]
  },
  {
   "cell_type": "code",
   "execution_count": null,
   "metadata": {
    "colab": {
     "base_uri": "https://localhost:8080/"
    },
    "id": "5BRrs1ISgaGy",
    "outputId": "363907b9-1d5c-400b-cd48-b07e71239c18"
   },
   "outputs": [],
   "source": [
    "dfpnadc['UF'] = dfpnadc['UF'].map(uf_map)\n",
    "\n",
    "dist_uf = dfpnadc.UF.value_counts()\n",
    "dist_uf"
   ]
  },
  {
   "cell_type": "code",
   "execution_count": null,
   "metadata": {
    "colab": {
     "base_uri": "https://localhost:8080/",
     "height": 428
    },
    "id": "GUHJpuCQgaGy",
    "outputId": "5a94c0b9-9983-4819-ba4e-316258b6c4d4"
   },
   "outputs": [],
   "source": [
    "# Plotar em um gráfico de barras utilizando um formato um pouco diferente do comando\n",
    "dist_uf.plot(kind='bar', figsize=(12,5))\n",
    "plt.title(\"Número de observações amostrais por UF\");"
   ]
  },
  {
   "cell_type": "markdown",
   "metadata": {
    "id": "08AvJ2RJgaGz"
   },
   "source": [
    "### Tabelas de Contingência (tabelas cruzadas)\n",
    "\n",
    "Uma tabela de contingência apresenta as frequência (absolutas ou relativas) de múltiplas variáveis categóricas. As linhas e colunas das tabelas correspondem a essas variáveis categóricas.\n",
    "\n",
    "Podemos usar o método `crosstab` para formatar tabelas de contingência na nossa análise."
   ]
  },
  {
   "cell_type": "code",
   "execution_count": null,
   "metadata": {
    "colab": {
     "base_uri": "https://localhost:8080/",
     "height": 143
    },
    "id": "wLwfTDkagaGz",
    "outputId": "de5ab0a4-87c7-4fbc-e6fa-dff9ad016a31"
   },
   "outputs": [],
   "source": [
    "# Frequências absolutas\n",
    "sexo_cor = pd.crosstab(dfpnadc['sexo'], dfpnadc['cor'])\n",
    "sexo_cor"
   ]
  },
  {
   "cell_type": "code",
   "execution_count": null,
   "metadata": {
    "colab": {
     "base_uri": "https://localhost:8080/",
     "height": 143
    },
    "id": "5QKAzFn6gaGz",
    "outputId": "d2e4f44f-9e51-4e9b-c63e-07318ff69477"
   },
   "outputs": [],
   "source": [
    "# Frequências relativas - Distribuição conjunta\n",
    "dist_sexo_cor = pd.crosstab(dfpnadc['sexo'], dfpnadc['cor'], normalize = True) * 100\n",
    "dist_sexo_cor"
   ]
  },
  {
   "cell_type": "markdown",
   "metadata": {
    "id": "-zJQSe1bgaGz"
   },
   "source": [
    "#### Sumário estatístico\n",
    "\n",
    "Com o método `describe` temos um sumário estatísticos para uma variável numérica.\n",
    "\n",
    "Aqui vamos pedir um sumário estatístico para a variável **idade**."
   ]
  },
  {
   "cell_type": "code",
   "execution_count": null,
   "metadata": {
    "colab": {
     "base_uri": "https://localhost:8080/"
    },
    "id": "By4GI_8ygaGz",
    "outputId": "7ebf30a7-8a7e-4cc7-df5e-083bb2363e20"
   },
   "outputs": [],
   "source": [
    "dfpnadc['idade'].describe()"
   ]
  },
  {
   "cell_type": "markdown",
   "metadata": {
    "id": "C99AXXL6gaGz"
   },
   "source": [
    "Podemos realizar o cálculo de medidas de tendência central - média, mediana e moda - usando os métodos `mean()`, `median()` e `mode()`."
   ]
  },
  {
   "cell_type": "code",
   "execution_count": null,
   "metadata": {
    "colab": {
     "base_uri": "https://localhost:8080/"
    },
    "id": "bmPnMx57gaG0",
    "outputId": "f23755c1-3a41-408f-a31a-52935d63c73c"
   },
   "outputs": [],
   "source": [
    "tend_central_idade = {'Média (idade)': dfpnadc['idade'].mean(), \n",
    "                           'Mediana (idade)': dfpnadc['idade'].median(), \n",
    "                           'Moda (idade)': dfpnadc['idade'].mode()}\n",
    "tend_central_idade"
   ]
  },
  {
   "cell_type": "markdown",
   "metadata": {
    "id": "GOPWlEaOgaG0"
   },
   "source": [
    "Vamos plotar um histograma da distribuição de idades.\n",
    "Para este histograma vamos usar as bibliotecas **matplotlib** e **seaborn**."
   ]
  },
  {
   "cell_type": "code",
   "execution_count": null,
   "metadata": {
    "colab": {
     "base_uri": "https://localhost:8080/",
     "height": 265
    },
    "id": "JVxcVdf1gaG0",
    "outputId": "d59c5c5d-c83b-45da-ac3d-38cecfa99b58"
   },
   "outputs": [],
   "source": [
    "# Histograma com histtype = 'stepfilled' \n",
    "plt.hist(dfpnadc['idade'], bins=10, histtype = 'stepfilled', rwidth = 0.8)\n",
    "plt.show()"
   ]
  },
  {
   "cell_type": "code",
   "execution_count": null,
   "metadata": {
    "colab": {
     "base_uri": "https://localhost:8080/",
     "height": 265
    },
    "id": "XBP1cvVygaG0",
    "outputId": "49879e0b-0769-4171-e3d5-9c8052a1d69a"
   },
   "outputs": [],
   "source": [
    "# Histograma com histtype = 'bar' \n",
    "plt.hist(dfpnadc['idade'], bins=20, histtype = 'bar', rwidth = 0.8)\n",
    "plt.show()"
   ]
  },
  {
   "cell_type": "markdown",
   "metadata": {},
   "source": [
    "Usando a função `displot`do seaborn."
   ]
  },
  {
   "cell_type": "code",
   "execution_count": null,
   "metadata": {
    "colab": {
     "base_uri": "https://localhost:8080/",
     "height": 369
    },
    "id": "1Bc3_LUdgaG0",
    "outputId": "0f1a18b8-71be-4240-cdc7-85cb6aa904ea"
   },
   "outputs": [],
   "source": [
    "sns.distplot(dfpnadc['idade'], bins=25, kde = True);"
   ]
  },
  {
   "cell_type": "code",
   "execution_count": null,
   "metadata": {
    "colab": {
     "base_uri": "https://localhost:8080/",
     "height": 355
    },
    "id": "8k8eA3IZgaG0",
    "outputId": "abbdf900-36bd-415c-cd95-5555b5ed835b"
   },
   "outputs": [],
   "source": [
    "# Histograma com seaborn\n",
    "hist_age = sns.distplot(dfpnadc['idade'], bins=20, kde =False)\n",
    "hist_age.figure.set_size_inches(8, 4)\n",
    "hist_age.set_title('Distribuição - idade', fontsize = 16)\n",
    "hist_age.set_xlabel('Anos', fontsize = 12)\n",
    "hist_age.set_ylabel('Observações', fontsize = 12);"
   ]
  },
  {
   "cell_type": "markdown",
   "metadata": {
    "id": "RL60U4qogaG1"
   },
   "source": [
    "### Cópias e subconjuntos"
   ]
  },
  {
   "cell_type": "markdown",
   "metadata": {
    "id": "I76kpA9sgaG1"
   },
   "source": [
    "#### Cópia\n",
    "Podemos criar uma cópia do DataFrame antes de aplicar algumas operações sobre ele. Dessa forma, podemos nos resguardar de ter uma cópia da versão trabalhada até o momento. Para isso usamos o método `copy`."
   ]
  },
  {
   "cell_type": "code",
   "execution_count": null,
   "metadata": {
    "id": "Yf34VkohgaG1"
   },
   "outputs": [],
   "source": [
    "dfpnadc2 = dfpnadc.copy()"
   ]
  },
  {
   "cell_type": "code",
   "execution_count": null,
   "metadata": {
    "id": "ymZIxeGsgaG1",
    "outputId": "a066a129-d4da-43eb-fa5c-49f98d2b4c54"
   },
   "outputs": [],
   "source": [
    "dfpnadc2.head()"
   ]
  },
  {
   "cell_type": "markdown",
   "metadata": {
    "id": "EvMlSObtgaG1"
   },
   "source": [
    "Poderíamos usar o novo DataFrame para selecionar subconjuntos de variáveis, fazer alterações em valores de colunas, entre outras operações. Alternativamente, podemos selecionar subconjuntos do DataFrame de referência e atribuir um novo DataFrame, mantendo o DataFrame anterior. É o que vamos fazer aqui."
   ]
  },
  {
   "cell_type": "code",
   "execution_count": null,
   "metadata": {
    "id": "Q8Ib_s-6gaG1"
   },
   "outputs": [],
   "source": [
    "# Como não vamos usar o dfpnadc2, vamos deletá-lo\n",
    "del dfpnadc2"
   ]
  },
  {
   "cell_type": "markdown",
   "metadata": {
    "id": "rJgOyZADgaG2"
   },
   "source": [
    "#### Subconjuntos condicionados\n",
    "\n",
    "Para analisar apenas escolaridade de indivíduos adultos, com 25 anos ou mais de idade (idade razoável para completar as principais etapas de ensino) poderíamos adicionar condições aos comandos.\n",
    "Aqui vamos optar por criar um novo DataFrame denominado **dfpnadc25**."
   ]
  },
  {
   "cell_type": "code",
   "execution_count": null,
   "metadata": {
    "id": "ZwNowbxogaG2",
    "outputId": "6e6878a6-57fc-4f09-d79c-1650904154cb"
   },
   "outputs": [],
   "source": [
    "dfpnadc25 = dfpnadc[dfpnadc[\"idade\"] >= 25]\n",
    "dfpnadc25.head()"
   ]
  },
  {
   "cell_type": "markdown",
   "metadata": {
    "id": "nVTmTt5ogaG2"
   },
   "source": [
    "Vamos analizar a variável **anos de estudo** das pessoas com 25 anos ou mais de idade."
   ]
  },
  {
   "cell_type": "code",
   "execution_count": null,
   "metadata": {
    "id": "7I98qQSwgaG2",
    "outputId": "fb06db30-80aa-4aa2-9777-3911346779d9"
   },
   "outputs": [],
   "source": [
    "freq_estudo = dfpnadc25['anos_estudo'].value_counts()\n",
    "freq_estudo"
   ]
  },
  {
   "cell_type": "markdown",
   "metadata": {
    "id": "eeUSCNjWgaG2"
   },
   "source": [
    "Note o ordenamento dos valores. Vamos usar aqui o `sort_index`"
   ]
  },
  {
   "cell_type": "code",
   "execution_count": null,
   "metadata": {
    "id": "hm0H6AN-gaG2",
    "outputId": "9608b42a-0504-4d3e-cbcb-f545a314b8cc"
   },
   "outputs": [],
   "source": [
    "freq_estudo = dfpnadc25['anos_estudo'].value_counts().sort_index()\n",
    "freq_estudo"
   ]
  },
  {
   "cell_type": "code",
   "execution_count": null,
   "metadata": {
    "id": "ALt82MEAgaG2",
    "outputId": "35d03295-5112-49ed-b4b1-d0a0d63f84f6"
   },
   "outputs": [],
   "source": [
    "dist_estudo = dfpnadc25['anos_estudo'].value_counts(normalize = True).sort_index() * 100\n",
    "dist_estudo"
   ]
  },
  {
   "cell_type": "markdown",
   "metadata": {
    "id": "bj01Uic9gaG3"
   },
   "source": [
    "Vamos usar o seaborn para plotar um histograma da variável 'anos de estudo'."
   ]
  },
  {
   "cell_type": "code",
   "execution_count": null,
   "metadata": {
    "id": "v75ZJ9GmgaG3",
    "outputId": "7437cce1-9345-4a1e-c690-f9f6d2665164"
   },
   "outputs": [],
   "source": [
    "est = sns.distplot(dfpnadc25['anos_estudo'], bins=8, kde =False)\n",
    "est.figure.set_size_inches(8, 4)\n",
    "est.set_title('Distribuição - anos de estudo', fontsize = 14)\n",
    "est.set_xlabel('Anos de estudo', fontsize = 12);"
   ]
  },
  {
   "cell_type": "markdown",
   "metadata": {
    "id": "wAy_TzSGgaG3"
   },
   "source": [
    "Vamos verificar a escolaridade média (anos de estudo) por sexo."
   ]
  },
  {
   "cell_type": "code",
   "execution_count": null,
   "metadata": {
    "id": "yL-on0JCgaG3",
    "outputId": "61eb5905-8a87-4203-a44f-8f803fd737d9"
   },
   "outputs": [],
   "source": [
    "dfpnadc25.groupby('sexo').mean()[['anos_estudo']]"
   ]
  },
  {
   "cell_type": "markdown",
   "metadata": {
    "id": "GHzPIjD9gaG3"
   },
   "source": [
    "Usando boxplot para vizualizar esta informação."
   ]
  },
  {
   "cell_type": "code",
   "execution_count": null,
   "metadata": {
    "id": "483TYMU5gaG3",
    "outputId": "ac9b5145-3dd2-45aa-ccdc-9bb461d21bc0"
   },
   "outputs": [],
   "source": [
    "sns.boxplot(x = dfpnadc25['sexo'],\n",
    "            y = dfpnadc25['anos_estudo'], \n",
    "            data = dfpnadc25,\n",
    "            showmeans=True, meanprops={\"marker\":\"o\", \"markerfacecolor\":\"white\"})\n",
    "plt.title(\"Anos de Estudo x Sexo\");"
   ]
  },
  {
   "cell_type": "markdown",
   "metadata": {
    "id": "Rt3bR1T7gaG3"
   },
   "source": [
    "Vamos obter a escolaridade média (anos de estudo) por UF e plotar essa informação."
   ]
  },
  {
   "cell_type": "code",
   "execution_count": null,
   "metadata": {
    "id": "4jfQAW_CgaG4",
    "outputId": "27c30531-c1be-47dd-800c-8a1aeb0ce98f"
   },
   "outputs": [],
   "source": [
    "dfpnadc25.groupby('UF').mean()[['anos_estudo']].plot(kind='bar', figsize=(12,5))\n",
    "plt.title(\"Escolaridade média por UF\");"
   ]
  },
  {
   "cell_type": "markdown",
   "metadata": {
    "id": "r5Wr6izvgaG4"
   },
   "source": [
    "Vamos criar um DataFrame com esta informação da média de anos de estudo por UF.\n",
    "\n",
    "Posteriomente vamos criar um gráfico de barras na horizontal e com as UFs ordenadas pela escolaridade média (em anos de estudo)."
   ]
  },
  {
   "cell_type": "code",
   "execution_count": null,
   "metadata": {
    "id": "fIDXuI2LgaG4",
    "outputId": "5377b8a4-a087-454b-a794-ea7bd90b980b"
   },
   "outputs": [],
   "source": [
    "est_uf = dfpnadc25.groupby('UF').mean()[['anos_estudo']]\n",
    "est_uf"
   ]
  },
  {
   "cell_type": "code",
   "execution_count": null,
   "metadata": {
    "id": "5GeqtC8SgaG4",
    "outputId": "7369aea5-73d9-4429-a4c1-4f40e0132729"
   },
   "outputs": [],
   "source": [
    "est_uf.sort_values('anos_estudo').plot(kind='barh', figsize=(10,8))\n",
    "plt.title(\"Escolaridade média por UF\")\n",
    "plt.show()"
   ]
  },
  {
   "cell_type": "markdown",
   "metadata": {
    "id": "3INIeGaygaG4"
   },
   "source": [
    "#### Analisando rendimentos\n",
    "Para análisar rendimentos do trabalho, vamos montar um DataFrame apenas com pessoas ocupadas no mercado de trabalho e com rendimentos positivos. Lembrando que nossa base já conta apenas com pessoas com idade igual ou superior a 25 anos."
   ]
  },
  {
   "cell_type": "code",
   "execution_count": null,
   "metadata": {
    "id": "ogFGheDdgaG4"
   },
   "outputs": [],
   "source": [
    "pnadc_ocup = dfpnadc25[(dfpnadc25[\"ocupado\"] == 1) & (dfpnadc25[\"renda_trabalho\"] > 0)]"
   ]
  },
  {
   "cell_type": "markdown",
   "metadata": {
    "id": "XmfIldwzgaG4"
   },
   "source": [
    "Agora vamos analisar a distribuição da variável de renda do trabalho."
   ]
  },
  {
   "cell_type": "code",
   "execution_count": null,
   "metadata": {
    "id": "_YC6zkuzgaG5",
    "outputId": "1918fd42-8031-4894-9be1-97131da211ee",
    "scrolled": true
   },
   "outputs": [],
   "source": [
    "sns.distplot(pnadc_ocup[\"renda_trabalho\"], hist = False, kde = True);"
   ]
  },
  {
   "cell_type": "markdown",
   "metadata": {
    "id": "cgk8_Id9gaG5"
   },
   "source": [
    "Podemos perceber pelo gráfico a presença de *outliers*.\n",
    "Para verificar melhor, vamos plotar um boxplot."
   ]
  },
  {
   "cell_type": "code",
   "execution_count": null,
   "metadata": {
    "id": "DLJIT-T2gaG5",
    "outputId": "76f97934-7220-42bd-c5cf-7152d5934bfd"
   },
   "outputs": [],
   "source": [
    "pnadc_ocup[\"renda_trabalho\"].plot(kind='box', vert=False, figsize=(15, 3));"
   ]
  },
  {
   "cell_type": "markdown",
   "metadata": {
    "id": "d6lZsrJFgaG5"
   },
   "source": [
    "Verificar algumas estatísticas da distirbuição da renda do trabalho."
   ]
  },
  {
   "cell_type": "code",
   "execution_count": null,
   "metadata": {
    "id": "X0B839tWgaG5",
    "outputId": "85456a48-9ab1-425f-a9ac-62b9b3f7e58a"
   },
   "outputs": [],
   "source": [
    "pnadc_ocup[\"renda_trabalho\"].describe()"
   ]
  },
  {
   "cell_type": "markdown",
   "metadata": {
    "id": "4elUqcFcgaG5"
   },
   "source": [
    "Temos uma média bem maior que a medida. Até mais próxima do 75º percentil.\n",
    "Temos uma assimetria positiva bastante acentuada.\n",
    "Vamos verificar o valor do coeficiente de assimetria."
   ]
  },
  {
   "cell_type": "code",
   "execution_count": null,
   "metadata": {
    "id": "cHIGJqghgaG5",
    "outputId": "f19c8c83-841d-4902-fa41-497086f016b2"
   },
   "outputs": [],
   "source": [
    "print(pnadc_ocup[\"renda_trabalho\"].skew())"
   ]
  },
  {
   "cell_type": "markdown",
   "metadata": {
    "id": "8u4pJdsogaG6"
   },
   "source": [
    "Um procedimento que pode ser adotado é a exclusão de valores muito elevados da base.\n",
    "Vamos analisar outras medidas de posição da nossa distribuição."
   ]
  },
  {
   "cell_type": "code",
   "execution_count": null,
   "metadata": {
    "id": "kVjnsNXUgaG6",
    "outputId": "57919ab3-3966-4417-f090-19ef8da0db09"
   },
   "outputs": [],
   "source": [
    "print(\"80º percentil = \",pnadc_ocup[\"renda_trabalho\"].quantile(0.80))\n",
    "print(\"90º percentil = \",pnadc_ocup[\"renda_trabalho\"].quantile(0.90))\n",
    "print(\"95º percentil = \",pnadc_ocup[\"renda_trabalho\"].quantile(0.95))\n",
    "print(\"99º percentil = \",pnadc_ocup[\"renda_trabalho\"].quantile(0.99))"
   ]
  },
  {
   "cell_type": "markdown",
   "metadata": {
    "id": "xXAQn_bCgaG6"
   },
   "source": [
    "Antes de fazer alterações, vamos fazer uma cópia do DataFrame **pnadc_ocup** "
   ]
  },
  {
   "cell_type": "code",
   "execution_count": null,
   "metadata": {
    "id": "0KfGPaDhgaG6"
   },
   "outputs": [],
   "source": [
    "df_ocup = pnadc_ocup.copy()"
   ]
  },
  {
   "cell_type": "markdown",
   "metadata": {
    "id": "2OAiKbpogaG6"
   },
   "source": [
    "Agora vamos usar a cópia e excluir observações com rendimentos acima do 95º percentil usando `drop`"
   ]
  },
  {
   "cell_type": "code",
   "execution_count": null,
   "metadata": {
    "id": "cUaARC-QgaG6"
   },
   "outputs": [],
   "source": [
    "df_ocup.drop(pnadc_ocup[pnadc_ocup[\"renda_trabalho\"] >= 7000].index, axis = 0, inplace=True)"
   ]
  },
  {
   "cell_type": "code",
   "execution_count": null,
   "metadata": {
    "id": "kayB5RMsgaG6",
    "outputId": "9c9fe54c-916e-482b-d93e-c79e27b154f0"
   },
   "outputs": [],
   "source": [
    "df_ocup[\"renda_trabalho\"].describe()"
   ]
  },
  {
   "cell_type": "code",
   "execution_count": null,
   "metadata": {
    "id": "U2X8_Yp1gaG7",
    "outputId": "9566d944-1b25-4e2e-da13-f46aea901684"
   },
   "outputs": [],
   "source": [
    "print(df_ocup[\"renda_trabalho\"].skew())"
   ]
  },
  {
   "cell_type": "code",
   "execution_count": null,
   "metadata": {
    "id": "938TgK1ogaG7",
    "outputId": "95e2f503-a7e5-4eed-ac0c-d88e7ff32d42"
   },
   "outputs": [],
   "source": [
    "df_ocup[\"renda_trabalho\"].plot(kind='box', vert=False, figsize=(15, 3))\n",
    "plt.show()"
   ]
  },
  {
   "cell_type": "code",
   "execution_count": null,
   "metadata": {
    "id": "apnUFFAigaG7",
    "outputId": "5b4a492d-34f1-49ce-eeb4-8b9c2bd6621e"
   },
   "outputs": [],
   "source": [
    "sns.distplot(df_ocup[\"renda_trabalho\"], bins=10, kde = True);"
   ]
  },
  {
   "cell_type": "code",
   "execution_count": null,
   "metadata": {
    "id": "swfY7uDLgaG7",
    "outputId": "6c759827-2ab8-4204-e0ea-c1fd229fcfe1"
   },
   "outputs": [],
   "source": [
    "# Renda do trabalho por UF\n",
    "rtrab_uf = df_ocup.groupby('UF').mean()[[\"renda_trabalho\"]]\n",
    "rtrab_uf"
   ]
  },
  {
   "cell_type": "code",
   "execution_count": null,
   "metadata": {
    "id": "hzsdfsePgaG8",
    "outputId": "77c6ed7a-170e-43a0-e053-b879d14ba5cb"
   },
   "outputs": [],
   "source": [
    "rtrab_uf.sort_values('renda_trabalho').plot(kind='barh', figsize=(10,8))\n",
    "plt.title(\"Renda do trabalho média por UF\");"
   ]
  },
  {
   "cell_type": "markdown",
   "metadata": {
    "id": "eVAV7qo4gaG8"
   },
   "source": [
    "Na modelagem estatística é muito comum a transformação logarítmica de variáveis. Adotar a escala logaritmica em um modelo de regressão possui algumas vantagens. Primeiro ela permite que relações não lineares possam ser tratadas no âmbito de um modelo linear. \n",
    "\n",
    "A transformação também é indicada em situações em que a distribuição dos resíduos é muito assimétrica e apresenta heterocedasticidade dos resíduos sejam garantidas. Nesse sentido, a transformação logaritmica torna a distribuição de resíduos mais simétrica (mais próxima da normal) e reduz o efeito de heterocedasticidade.\n",
    "\n",
    "Aqui vamos aplicar a escala logaritmica (logaritmo natual) na renda trabalho, usando a função `log` do NumPy."
   ]
  },
  {
   "cell_type": "code",
   "execution_count": null,
   "metadata": {
    "id": "R_XLMaKwgaG8",
    "outputId": "7eed7170-d0de-499a-9a5d-220623fe885a"
   },
   "outputs": [],
   "source": [
    "df_ocup[\"log_rtrab\"] = np.log(df_ocup[\"renda_trabalho\"])\n",
    "df_ocup.head()"
   ]
  },
  {
   "cell_type": "code",
   "execution_count": null,
   "metadata": {
    "id": "N9635pPfgaG8",
    "outputId": "d7bfd8ab-798d-4ea8-f74a-eb510a8cbed0"
   },
   "outputs": [],
   "source": [
    "sns.distplot(df_ocup[\"log_rtrab\"]);"
   ]
  },
  {
   "cell_type": "markdown",
   "metadata": {
    "id": "WHdLx5NmgaG8"
   },
   "source": [
    "Para aprofundar a análise, vamos plotar a distribuição de renda do trabalho por grupos de homens e mulheres."
   ]
  },
  {
   "cell_type": "code",
   "execution_count": null,
   "metadata": {
    "id": "Erwpt_QugaG9",
    "outputId": "81bbc284-b569-4659-ca9a-07455602261f"
   },
   "outputs": [],
   "source": [
    "df_h = df_ocup[df_ocup.sexo == \"homem\"]\n",
    "df_m = df_ocup[df_ocup.sexo == \"mulher\"]\n",
    "\n",
    "sns.distplot(df_h[[\"log_rtrab\"]], hist=False, label = \"homens\" )\n",
    "sns.distplot(df_m[[\"log_rtrab\"]], hist=False, label = \"mulheres\");"
   ]
  },
  {
   "cell_type": "markdown",
   "metadata": {
    "id": "iGdpm5TKgaG9"
   },
   "source": [
    "Em um gráfico de dispersão podemos verificar uma evidência da relação entre anos de estudo e renda do trabalho para os dois grupos."
   ]
  },
  {
   "cell_type": "code",
   "execution_count": null,
   "metadata": {
    "id": "7CKtEFiVgaG9",
    "outputId": "9fbaf5cb-d37c-4761-c05b-50fb5d845d52"
   },
   "outputs": [],
   "source": [
    "sns.lmplot('anos_estudo', 'log_rtrab', hue='sexo', data=df_ocup);"
   ]
  },
  {
   "cell_type": "markdown",
   "metadata": {
    "id": "I-Sjc8nqgaG9"
   },
   "source": [
    "### Regressão linear"
   ]
  },
  {
   "cell_type": "markdown",
   "metadata": {
    "id": "Fq3pY7JFgaG9"
   },
   "source": [
    "Apesar de não ser o foco do presente Notebook, vamos apresentar de forma breve as estimações de modelos de regressão linear.\n",
    "\n",
    "Aqui os modelos serão estimados pelo método de Mínimos Quadrados Ordinários (OLS - *Ordinary Least Square*).\n",
    "\n",
    "Para essas estimações vamos usar a biblioteca **statsmodel** (https://www.statsmodels.org/)."
   ]
  },
  {
   "cell_type": "code",
   "execution_count": null,
   "metadata": {
    "id": "-0Bf0SZZgaG9"
   },
   "outputs": [],
   "source": [
    "# Primeiro vamos importar o statsmodel e a API formula\n",
    "import statsmodels.api as sm\n",
    "import statsmodels.formula.api as smf"
   ]
  },
  {
   "cell_type": "markdown",
   "metadata": {
    "id": "loieXXOngaG9"
   },
   "source": [
    "Vamos estimar uma regressão do log da renda do trabalho em função da escolaridade (em anos de estudo)."
   ]
  },
  {
   "cell_type": "code",
   "execution_count": null,
   "metadata": {
    "id": "yyQp6KUlgaG-",
    "outputId": "07bc51fd-2d53-4002-a1b8-f3cbd5d0deed"
   },
   "outputs": [],
   "source": [
    "# define o modelo\n",
    "model1 = smf.ols(formula = 'log_rtrab ~ anos_estudo', data = df_ocup)\n",
    "# estima\n",
    "model1 = model1.fit()\n",
    "# imprime os resultados\n",
    "print(model1.summary())"
   ]
  },
  {
   "cell_type": "markdown",
   "metadata": {
    "id": "0w9O2y8EgaG-"
   },
   "source": [
    "Para estimar um modelo de regressão linear múltipla vamos adicionar mais algumas variáveis explicativas: idade e sexo."
   ]
  },
  {
   "cell_type": "code",
   "execution_count": null,
   "metadata": {
    "id": "ojO6lMv7gaG-",
    "outputId": "93b88178-50c7-4d68-b738-758afddfc537"
   },
   "outputs": [],
   "source": [
    "model2 = smf.ols(formula = 'log_rtrab ~ anos_estudo + idade + sexo', data = df_ocup)\n",
    "model2  = model2.fit() \n",
    "print(model2 .summary())"
   ]
  },
  {
   "cell_type": "markdown",
   "metadata": {
    "id": "4HiHNHvpgaG-"
   },
   "source": [
    "Em uma primeira checagem dos resultados, podemos verificar que os coeficientes foram estimados com os sinais esperados e são estatisticamente significantes. Mas não devemos nos atentar apenas a avaliar isto. Em outro Notebook podemos abordar de forma detalhada a análise dos resultados de modelo de regressão linear simples, bem como o diagnóstico do modelo."
   ]
  }
 ],
 "metadata": {
  "colab": {
   "name": "note1_pnadc.ipynb",
   "provenance": []
  },
  "kernelspec": {
   "display_name": "Python 3",
   "language": "python",
   "name": "python3"
  },
  "language_info": {
   "codemirror_mode": {
    "name": "ipython",
    "version": 3
   },
   "file_extension": ".py",
   "mimetype": "text/x-python",
   "name": "python",
   "nbconvert_exporter": "python",
   "pygments_lexer": "ipython3",
   "version": "3.7.6"
  }
 },
 "nbformat": 4,
 "nbformat_minor": 1
}
